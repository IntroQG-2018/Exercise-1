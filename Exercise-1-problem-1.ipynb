{
 "cells": [
  {
   "cell_type": "markdown",
   "metadata": {
    "deletable": false,
    "editable": false,
    "nbgrader": {
     "checksum": "65e508a2a33ee79585e0542bbdc37754",
     "grade": false,
     "grade_id": "cell-73bf5dada493b935",
     "locked": true,
     "schema_version": 1,
     "solution": false
    }
   },
   "source": [
    "# Exercise 1: Coding and visualizing geostatistics\n",
    "\n",
    "In this week's exercise we will take our first steps toward learning how to convert equations into Python code, and visualizing some geochronological data.\n",
    "We will be using Python tools that are already familiar to us, but applying them in a slightly different way than in the earlier exercises.\n",
    "\n",
    "For each problem you need to modify the given notebook, and then upload your files to GitHub.\n",
    "The answers to the questions in this week's exercise should be given by modifying the document in places where asked.\n",
    "\n",
    "- **Exercise 1 is due by the start of class on on 5.11.**\n",
    "- Don't forget to check out [the hints for this week's exercise](https://introqg.github.io/qg/lessons/L8/exercise-8-hints.html) if you're having trouble.\n",
    "- Scores on this exercise are out of 20 points."
   ]
  },
  {
   "cell_type": "markdown",
   "metadata": {
    "deletable": false,
    "editable": false,
    "nbgrader": {
     "checksum": "272de22a410014fd57efcfcb855111b6",
     "grade": false,
     "grade_id": "cell-c1d06e8c992c2c09",
     "locked": true,
     "schema_version": 1,
     "solution": false
    }
   },
   "source": [
    "# Problem 1: Converting math to Python (8.5 points)\n",
    "\n",
    "One of the goals of this part of the course is to develop your quantitative geoscience skills, including learning how to convert mathematical equations to Python code.\n",
    "Doing this allows you to explore how various equations work and produce useful data plots or predictions, something increasingly done by geoscience professionals.\n",
    "\n",
    "For this problem you are asked to create 3 Python functions to calculate common statistics on a list of values: (1) the mean, (2) the standard deviation, and (3) the standard deviation of the mean (or standard error).\n",
    "\n",
    "- For each function you will be given a formula that you should convert to a Python function.\n",
    "- In your functions you should not use existing Python or NumPy functions, other than perhaps a function for calculating the square root.\n",
    "- Each of the functions should be defined in a Python cell in this notebook so that you can use and test your functions.\n",
    "- In addition, you should use the NumPy functions `np.mean()`, `np.std()`, and `np.sqrt()` to calculate the mean, standard deviation, and standard error to compare to the values found using your functions."
   ]
  },
  {
   "cell_type": "markdown",
   "metadata": {
    "deletable": false,
    "editable": false,
    "nbgrader": {
     "checksum": "0a186f62514b8fd8080c8265d684391b",
     "grade": false,
     "grade_id": "cell-4d2d1eb8d6a955a5",
     "locked": true,
     "schema_version": 1,
     "solution": false
    }
   },
   "source": [
    "## Part 1: Preparing your test data (1 point)\n",
    "\n",
    "To ensure your functions are working properly, we will be using some data where the expected values of each function can easily be calculated.\n",
    "The data comprise ages measured for minerals in the five geochronological samples in the table below.\n",
    "\n",
    "| Sample    | Subsample ID | Age [Ma] | \n",
    "| --------- | ------------ | -------- |\n",
    "| **F09**   | F09-1        | 2.01     |\n",
    "|           | F09-2        | 1.95     |\n",
    "|           | F09-3        | 2.38     |\n",
    "|           | F09-4        | 2.3      |\n",
    "|           | F09-5        | 2.0      |\n",
    "| **BH63**  | BH63-1       | 4.77     |\n",
    "|           | BH63-2       | 5.11     |\n",
    "|           | BH63-3       | 3.30     |\n",
    "|           | BH63-4       | 3.34     |\n",
    "|           | BH63-5       | 4.45     |\n",
    "| **BH161** | BH161-1      | 8.8      |\n",
    "|           | BH161-3      | 2.15     |\n",
    "| **BH412** | BH412-1      | 4.74     |\n",
    "|           | BH412-2      | 5.14     |\n",
    "|           | BH412-3      | 5.14     |\n",
    "|           | BH412-4      | 5.5      |\n",
    "|           | BH412-5      | 5.1      |\n",
    "| **BHF04** | BHF04-1      | 2.21     |\n",
    "|           | BHF04-3      | 5.1      |\n",
    "|           | BHF04-4      | 2.93     |\n",
    "|           | BHF04-5      | 4.69     |<br/>\n",
    "*Table 1. Apatite (U-Th)/He thermochronometer ages from [Coutand et al. (2014)](https://doi.org/10.1002/2013JB010891)*.\n",
    "\n",
    "For this part you should:\n",
    "\n",
    "- Create 5 Python lists named `f09`, `bh63`, `bh161`, `bh412`, and `bhf04` that contain the age values listed for each subsample above."
   ]
  },
  {
   "cell_type": "code",
   "execution_count": null,
   "metadata": {
    "deletable": false,
    "nbgrader": {
     "checksum": "7a85ffa0e2baba3036386567b1f3681f",
     "grade": false,
     "grade_id": "create_lists",
     "locked": false,
     "schema_version": 1,
     "solution": true
    }
   },
   "outputs": [],
   "source": [
    "# YOUR CODE HERE\n",
    "raise NotImplementedError()"
   ]
  },
  {
   "cell_type": "code",
   "execution_count": null,
   "metadata": {
    "deletable": false,
    "editable": false,
    "nbgrader": {
     "checksum": "ac4182c768bf4d6f7045730ca0e368c3",
     "grade": true,
     "grade_id": "create_lists_tests",
     "locked": true,
     "points": 1,
     "schema_version": 1,
     "solution": false
    }
   },
   "outputs": [],
   "source": [
    "# This test should print first age of the list `f09`\n",
    "print(\"The first age in list f09 is\", f09[0], \"Ma\")\n"
   ]
  },
  {
   "cell_type": "markdown",
   "metadata": {
    "deletable": false,
    "editable": false,
    "nbgrader": {
     "checksum": "887fb949250159047e9662851607a6af",
     "grade": false,
     "grade_id": "cell-51fd556286ef9158",
     "locked": true,
     "schema_version": 1,
     "solution": false
    }
   },
   "source": [
    "## Part 2: Creating and testing your `mean()` function (2 points)\n",
    "\n",
    "The *mean* or *average* $\\bar{x}$ should be calculated using a function you should call `mean()`.\n",
    "  \n",
    "\\begin{equation}\n",
    "  \\Large\n",
    "  \\bar{x} = \\frac{\\Sigma x_{i}}{N}\n",
    "\\end{equation}\n",
    "\n",
    "*Equation 1. The mean value, where $x_{i}$ is a value to be included in the mean calculation and $N$ is the total number of values to average*.\n",
    "    \n",
    "For this part you should:\n",
    "\n",
    "- Create a function called `mean()` in the cell below.\n",
    "- Print out the mean value you calculated using your `mean()` function and that from `np.mean()` (from NumPy) in the format for each of the age lists created in Part 1.\n",
    "\n",
    "  ```\n",
    "  My mean for f09: 2.1280. NumPy mean for f09: 2.1280.\n",
    "  ```\n",
    "  \n",
    "  **Note**: Like the example above, you should have 4 numbers after the decimal place in your output.\n",
    "  In case you've forgotten how to do that, you can refer to the [hints for Exercise 1](https://introqg.github.io/qg/lessons/L8/exercise-8-hints.html) for some ideas."
   ]
  },
  {
   "cell_type": "code",
   "execution_count": null,
   "metadata": {
    "deletable": false,
    "nbgrader": {
     "checksum": "7f871d8a2d5d2e0f5a3708e82eca3185",
     "grade": false,
     "grade_id": "mean",
     "locked": false,
     "schema_version": 1,
     "solution": true
    }
   },
   "outputs": [],
   "source": [
    "def mean(numbers):\n",
    "    \"\"\"Returns the average value of a collection of numbers.\"\"\"\n",
    "# YOUR CODE HERE\n",
    "raise NotImplementedError()"
   ]
  },
  {
   "cell_type": "code",
   "execution_count": null,
   "metadata": {
    "deletable": false,
    "editable": false,
    "nbgrader": {
     "checksum": "11897b583ad5a72770e124ded8eaddb4",
     "grade": true,
     "grade_id": "mean_tests",
     "locked": true,
     "points": 2,
     "schema_version": 1,
     "solution": false
    }
   },
   "outputs": [],
   "source": [
    "# This test print should work\n",
    "print(\"Mean for f09:\", mean(f09))\n"
   ]
  },
  {
   "cell_type": "markdown",
   "metadata": {
    "deletable": false,
    "editable": false,
    "nbgrader": {
     "checksum": "b1d9dea7ab8d2ebce4d3a60a537598b7",
     "grade": false,
     "grade_id": "cell-b5214269ba34db7b",
     "locked": true,
     "schema_version": 1,
     "solution": false
    }
   },
   "source": [
    "## Part 3: Creating and testing your `stddev()` function (2 points)\n",
    "\n",
    "The *standard deviation* $\\sigma_{x}$, calculated using a function you should call `stddev()`.\n",
    "\n",
    "\\begin{equation}\n",
    "  \\Large\n",
    "  \\sigma_{x} = \\sqrt{\\frac{1}{N} \\Sigma \\left( x_{i} - \\bar{x} \\right)^{2}}\n",
    "\\end{equation}\n",
    "\n",
    "*Equation 2. The standard deviation*.\n",
    "\n",
    "For this part you should:\n",
    "\n",
    "- Create a function called `stddev()` in the cell below.\n",
    "- Print out the standard deviation values you calculate using your `stddev()` function and that from `np.stddev()` (from NumPy) in the format for each of the age lists created in Part 1.\n",
    "\n",
    "  ```\n",
    "  My standard deviation for f09: 2.1280. NumPy standard deviation for f09: 2.1280.\n",
    "  ```\n",
    "  \n",
    "  **Note**: Like the example above, you should have 4 numbers after the decimal place in your output.\n",
    "  In case you've forgotten how to do that, you can refer to the [hints for Exercise 1](https://introqg.github.io/qg/lessons/L8/exercise-8-hints.html) for some ideas."
   ]
  },
  {
   "cell_type": "code",
   "execution_count": null,
   "metadata": {
    "deletable": false,
    "nbgrader": {
     "checksum": "b2388f617c2ed11ea871c3c035e20ab6",
     "grade": false,
     "grade_id": "stddev",
     "locked": false,
     "schema_version": 1,
     "solution": true
    }
   },
   "outputs": [],
   "source": [
    "# Import the math module to use the square root function sqrt()\n",
    "import math\n",
    "\n",
    "def stddev(numbers):\n",
    "    \"\"\"Returns the standard deviation of a collection of numbers.\"\"\"\n",
    "# YOUR CODE HERE\n",
    "raise NotImplementedError()"
   ]
  },
  {
   "cell_type": "code",
   "execution_count": null,
   "metadata": {
    "deletable": false,
    "editable": false,
    "nbgrader": {
     "checksum": "023e39a1079f5864473cefa9f6ea23ca",
     "grade": true,
     "grade_id": "stddev_tests",
     "locked": true,
     "points": 2,
     "schema_version": 1,
     "solution": false
    }
   },
   "outputs": [],
   "source": [
    "# This test print should work\n",
    "print(\"Standard deviation for f09:\", stddev(f09))\n"
   ]
  },
  {
   "cell_type": "markdown",
   "metadata": {
    "deletable": false,
    "editable": false,
    "nbgrader": {
     "checksum": "fecc00f4244d382f227fa2d8fa8250b6",
     "grade": false,
     "grade_id": "cell-a726f1366ee0c7aa",
     "locked": true,
     "schema_version": 1,
     "solution": false
    }
   },
   "source": [
    "## Part 4: Creating and testing your `stderr()` function (2 points)\n",
    "\n",
    "The *standard deviation of the mean* or *standard error* $\\sigma_{\\bar{x}}$, calculated using a function you should call `stderr()`.\n",
    "\n",
    "\\begin{equation}\n",
    "  \\Large\n",
    "  \\sigma_{\\bar{x}} = \\frac{\\sigma_{x}}{\\sqrt{N}}\n",
    "\\end{equation}\n",
    "\n",
    "*Equation 3. The standard error*.\n",
    "\n",
    "For this part you should:\n",
    "\n",
    "- Create a function called `stderr()` in the cell below.\n",
    "- Print out the standard deviation values you calculate using your `stderr()` function and that from the `np.stddev()`  and `np.sqrt()` functions in the format for each of the age lists created in Part 1.\n",
    "\n",
    "  ```\n",
    "  My standard error for f09: 2.1280. NumPy standard error for f09: 2.1280.\n",
    "  ```\n",
    "  \n",
    "  **Note**: Like the example above, you should have 4 numbers after the decimal place in your output.\n",
    "  In case you've forgotten how to do that, you can refer to the [hints for Exercise 1](https://introqg.github.io/qg/lessons/L8/exercise-8-hints.html) for some ideas."
   ]
  },
  {
   "cell_type": "code",
   "execution_count": null,
   "metadata": {
    "deletable": false,
    "nbgrader": {
     "checksum": "e505939a54f24c424d00ff1160b0a3a2",
     "grade": false,
     "grade_id": "stderr",
     "locked": false,
     "schema_version": 1,
     "solution": true
    }
   },
   "outputs": [],
   "source": [
    "# Import the math module to use the square root function sqrt()\n",
    "import math\n",
    "\n",
    "def stderr(numbers):\n",
    "    \"\"\"Returns the standard error of a collection of numbers.\"\"\"\n",
    "# YOUR CODE HERE\n",
    "raise NotImplementedError()"
   ]
  },
  {
   "cell_type": "code",
   "execution_count": null,
   "metadata": {
    "deletable": false,
    "editable": false,
    "nbgrader": {
     "checksum": "6dbc7348adb50ae64cc7968b1e5296d5",
     "grade": true,
     "grade_id": "stderr_tests",
     "locked": true,
     "points": 2,
     "schema_version": 1,
     "solution": false
    }
   },
   "outputs": [],
   "source": [
    "# This test print should work\n",
    "print(\"Standard error for f09:\", stderr(f09))\n"
   ]
  },
  {
   "cell_type": "markdown",
   "metadata": {
    "deletable": false,
    "editable": false,
    "nbgrader": {
     "checksum": "1c13c37bd6d786102c4714d618b05e95",
     "grade": false,
     "grade_id": "cell-651b9988c4cd7924",
     "locked": true,
     "schema_version": 1,
     "solution": false
    }
   },
   "source": [
    "## Part 5: Questions for Problem 1 (1.5 points)\n",
    "\n",
    "1. How much do the standard deviation values vary among the samples in Table 1, and what does this tell you about the measured values?\n",
    "2. Do you observe a large difference between the standard deviation and standard error values? Is it clear why you should always indicate whether reported values are standard deviations or standard errors?\n",
    "3. Did you observe any descrepancy between the values calculated in your functions and those found using NumPy? If so, what is the cause of the difference(s)?"
   ]
  },
  {
   "cell_type": "markdown",
   "metadata": {
    "deletable": false,
    "nbgrader": {
     "checksum": "0060029dc5be8fc67e76fec657f8157b",
     "grade": true,
     "grade_id": "questions",
     "locked": false,
     "points": 1.5,
     "schema_version": 1,
     "solution": true
    }
   },
   "source": [
    "YOUR ANSWER HERE"
   ]
  }
 ],
 "metadata": {
  "kernelspec": {
   "display_name": "Python 3",
   "language": "python",
   "name": "python3"
  },
  "language_info": {
   "codemirror_mode": {
    "name": "ipython",
    "version": 3
   },
   "file_extension": ".py",
   "mimetype": "text/x-python",
   "name": "python",
   "nbconvert_exporter": "python",
   "pygments_lexer": "ipython3",
   "version": "3.6.4"
  }
 },
 "nbformat": 4,
 "nbformat_minor": 2
}
