{
 "cells": [
  {
   "cell_type": "markdown",
   "metadata": {},
   "source": [
    "# Exercise 1: Coding and visualizing geostatistics\n",
    "\n",
    "In this week's exercise we will take our first steps toward learning how to convert equations into Python code, and visualizing some geochronological data.\n",
    "We will be using Python tools that are already familiar to us, but applying them in a slightly different way than in the earlier exercises.\n",
    "\n",
    "For each problem you need to modify the given notebook, and then upload your files to GitHub.\n",
    "The answers to the questions in this week's exercise should be given by modifying the document in places where asked.\n",
    "\n",
    "- **Exercise 1 is due by the start of class on on 5.11.**\n",
    "- Don't forget to check out [the hints for this week's exercise](https://introqg.github.io/qg/lessons/L8/exercise-8-hints.html) if you're having trouble.\n",
    "- Scores on this exercise are out of 20 points."
   ]
  },
  {
   "cell_type": "markdown",
   "metadata": {
    "deletable": false,
    "editable": false,
    "nbgrader": {
     "checksum": "c11ddcd650b86c5c5a850f074fd42056",
     "grade": false,
     "grade_id": "cell-9d675d546d96f1e3",
     "locked": true,
     "schema_version": 1,
     "solution": false
    }
   },
   "source": [
    "## Problem 2: Visualizing uncertainty (11.5 points)\n",
    "\n",
    "In this problem we will continue to develop our Python mathematical and plotting skills by visualizing the calculated sample geochronological ages from Problem 1 using the *normal distribution*.\n",
    "The normal distribution is a mathematical function with a bell shape, also known as the *Gauss function* or *Gaussian*.\n",
    "This function is centered on the mean value of a given set of values, where its value is greatest, and its value decreases away from the mean in what is hopefully a familiar form."
   ]
  },
  {
   "cell_type": "markdown",
   "metadata": {
    "deletable": false,
    "editable": false,
    "nbgrader": {
     "checksum": "bce3de6e23d6b8aed6d7081667b30621",
     "grade": false,
     "grade_id": "cell-b19049dcf3427f16",
     "locked": true,
     "schema_version": 1,
     "solution": false
    }
   },
   "source": [
    "## Part 1: Preparing your \"ingredients\" (2 points)\n",
    "\n",
    "Your first task in this problem is to define the functions that will be needed to make plots of the normal distributions of the data from Problem 1.\n",
    "We can start with the Gaussian function itself, which has a mathematical definition that is\n",
    "\\begin{equation}\n",
    "  \\Large\n",
    "  G_{\\bar{x}, \\sigma_{x}}(x) = \\frac{1}{\\sigma_{x} \\sqrt{2 \\pi}} e^{-(x - \\bar{x})^{2} / 2 \\sigma_{x}^{2})}\n",
    "\\end{equation}\n",
    "\n",
    "*Equation 4. The normal distribution*.\n",
    "\n",
    "In this equation, , $e$ is the exponential function, $x$ is the value for which the normal distribution is calculated, $\\bar{x}$ is the mean, and $\\sigma_{x}$ is the standard deviation.\n",
    "As we have already defined functions for the mean and standard deviation, you should copy those over from Problem 1.\n",
    "**Note**: With the Gaussian function we are explicitly assuming here that the uncertainty is symmetric and follows a bell-shaped distribution about the mean.\n",
    "\n",
    "For this part you should:\n",
    "\n",
    "- Import math or NumPy to be able to use a function for calculating the square root\n",
    "- Define a function called `gaussian()` that you can use to calculate the normal distribution.\n",
    "  Note that you will have more than one parameter when defining this function."
   ]
  },
  {
   "cell_type": "code",
   "execution_count": null,
   "metadata": {
    "deletable": false,
    "nbgrader": {
     "checksum": "8180b00f72ba1b9aef91764406661c7d",
     "grade": false,
     "grade_id": "gaussian",
     "locked": false,
     "schema_version": 1,
     "solution": true
    }
   },
   "outputs": [],
   "source": [
    "# YOUR CODE HERE\n",
    "raise NotImplementedError()"
   ]
  },
  {
   "cell_type": "code",
   "execution_count": null,
   "metadata": {
    "deletable": false,
    "editable": false,
    "nbgrader": {
     "checksum": "4e37ce7049fd48d14e6752bfeb1f7612",
     "grade": true,
     "grade_id": "gaussian_tests",
     "locked": true,
     "points": 2,
     "schema_version": 1,
     "solution": false
    }
   },
   "outputs": [],
   "source": [
    "# This test should work\n",
    "print(\"The Gaussian value for this test should be 0.3989. My Gaussian value is:\", gaussian(1, 1, [1]))\n"
   ]
  },
  {
   "cell_type": "markdown",
   "metadata": {
    "deletable": false,
    "editable": false,
    "nbgrader": {
     "checksum": "44898ba2d36f91aa016041e0c54bbc45",
     "grade": false,
     "grade_id": "cell-a6baa3dfc9218d62",
     "locked": true,
     "schema_version": 1,
     "solution": false
    }
   },
   "source": [
    "## Part 2: Calculating normal distributions for our age data (2 points)\n",
    "\n",
    "Your next task now that we have the functions defined is to calculate the normal distributions for each of the ages from Problem 1.\n",
    "You can use the mean and standard deviation values calculated in Problem 1 already, or recalculate them using data in the table below.\n",
    "\n",
    "| Sample    | Subsample ID | Age [Ma] | \n",
    "| --------- | ------------ | -------- |\n",
    "| **F09**   | F09-1        | 2.01     |\n",
    "|           | F09-2        | 1.95     |\n",
    "|           | F09-3        | 2.38     |\n",
    "|           | F09-4        | 2.3      |\n",
    "|           | F09-5        | 2.0      |\n",
    "| **BH63**  | BH63-1       | 4.77     |\n",
    "|           | BH63-2       | 5.11     |\n",
    "|           | BH63-3       | 3.30     |\n",
    "|           | BH63-4       | 3.34     |\n",
    "|           | BH63-5       | 4.45     |\n",
    "| **BH161** | BH161-1      | 8.8      |\n",
    "|           | BH161-3      | 2.15     |\n",
    "| **BH412** | BH412-1      | 4.74     |\n",
    "|           | BH412-2      | 5.14     |\n",
    "|           | BH412-3      | 5.14     |\n",
    "|           | BH412-4      | 5.5      |\n",
    "|           | BH412-5      | 5.1      |\n",
    "| **BHF04** | BHF04-1      | 2.21     |\n",
    "|           | BHF04-3      | 5.1      |\n",
    "|           | BHF04-4      | 2.93     |\n",
    "|           | BHF04-5      | 4.69     |<br/>\n",
    "*Table 1. Apatite (U-Th)/He thermochronometer ages from [Coutand et al. (2014)](https://doi.org/10.1002/2013JB010891)*.\n",
    "\n",
    "For this part you should:\n",
    "\n",
    "- Use your `gaussian()` function to calculate the normal distributions for the 5 samples in Table 1.\n",
    "    - The ages for which the normal distribution should be calculated are should be stored in a NumPy array called `ages` that ranges from 0-10 Ma in increments of 0.01 Ma.\n",
    "    At each of those ages you will calculate the value of the normal distribution for each sample.\n",
    "    - Store each of the calculated values from the `gaussian()` function in variables in the format `<sample_id>_gaussian`. For example, `f09_gaussian`."
   ]
  },
  {
   "cell_type": "code",
   "execution_count": null,
   "metadata": {
    "deletable": false,
    "nbgrader": {
     "checksum": "4ba4425dd1c6065c4b637654a3ace785",
     "grade": false,
     "grade_id": "distributions",
     "locked": false,
     "schema_version": 1,
     "solution": true
    }
   },
   "outputs": [],
   "source": [
    "# YOUR CODE HERE\n",
    "raise NotImplementedError()"
   ]
  },
  {
   "cell_type": "code",
   "execution_count": null,
   "metadata": {
    "deletable": false,
    "editable": false,
    "nbgrader": {
     "checksum": "7b755e28cd52e83f4d9d3591434d4821",
     "grade": true,
     "grade_id": "distributions_tests",
     "locked": true,
     "points": 2,
     "schema_version": 1,
     "solution": false
    }
   },
   "outputs": [],
   "source": [
    "# This test print should work\n",
    "print(\"The first value in f09's Gaussian is\", f09_gaussian[0])\n"
   ]
  },
  {
   "cell_type": "markdown",
   "metadata": {
    "deletable": false,
    "editable": false,
    "nbgrader": {
     "checksum": "f3f251d9024544c5d4ba67ee504b5ae2",
     "grade": false,
     "grade_id": "cell-632fab00b2789f2f",
     "locked": true,
     "schema_version": 1,
     "solution": false
    }
   },
   "source": [
    "## Part 3: Plotting your output (6 points)\n",
    "\n",
    "Your last coding task in this problem is to produce a plot to visualize the age distributions you have calculated using Matplotlib.\n",
    "In the plot, you should show both the normal distributions and the mean/standard deviation values using the format specified below.\n",
    "\n",
    "For this part you should:\n",
    "\n",
    "- Create a plot using Matplotlib that displays\n",
    "    - The normal distributions using different colored solid lines with the `plt.plot()` function.\n",
    "    - The ages of the individual minerals (not the means) as colored points along the bottom of the plot (i.e., at *y* = 0).\n",
    "    - The mean age with its standard deviation at the location ($x$, $y$) of the maximum value of each normal distribution using the `plt.errorbar()` function.\n",
    "    The error bars should be symmetric, at the mean value, and with the value of the standard deviation as a horizontal error bar.\n",
    "- Be sure to include a plot legend for the normal distribution lines, and use the same colors for each sample.\n",
    "- Include axis labels and a title.\n",
    "- Plot all requested items on the same plot.\n",
    "- Add a figure caption in the Markdown cell below the Python cell for your plot that describes the plot as if it were in a scientific journal article."
   ]
  },
  {
   "cell_type": "code",
   "execution_count": null,
   "metadata": {
    "deletable": false,
    "nbgrader": {
     "checksum": "9e72beb2eb6dedc91320e5b9b37211e1",
     "grade": true,
     "grade_id": "plot",
     "locked": false,
     "points": 5,
     "schema_version": 1,
     "solution": true
    }
   },
   "outputs": [],
   "source": [
    "# YOUR CODE HERE\n",
    "raise NotImplementedError()"
   ]
  },
  {
   "cell_type": "markdown",
   "metadata": {
    "deletable": false,
    "nbgrader": {
     "checksum": "60ea3c3948e7898cc92c94877726a2f8",
     "grade": true,
     "grade_id": "plot_caption",
     "locked": false,
     "points": 1,
     "schema_version": 1,
     "solution": true
    }
   },
   "source": [
    "YOUR ANSWER HERE"
   ]
  },
  {
   "cell_type": "markdown",
   "metadata": {
    "deletable": false,
    "editable": false,
    "nbgrader": {
     "checksum": "d977829d39322a8b0ceddc6c7c4d2118",
     "grade": false,
     "grade_id": "cell-b6a5d11ea0c5fd03",
     "locked": true,
     "schema_version": 1,
     "solution": false
    }
   },
   "source": [
    "## Part 4: Questions for Problem 2 (1.5 points)\n",
    "\n",
    "In 1-2 paragraphs, discuss the following:\n",
    "\n",
    "- How does the shape of the Gaussian distribution change for different values of the standard deviation?\n",
    "- Using this method of visualization, is it clear which samples have larger or smaller *random errors*?\n",
    "- How much variation in age is observed in ages measured from the same sample? Does this amount of variation worry you?"
   ]
  },
  {
   "cell_type": "markdown",
   "metadata": {
    "deletable": false,
    "nbgrader": {
     "checksum": "0060029dc5be8fc67e76fec657f8157b",
     "grade": true,
     "grade_id": "questions",
     "locked": false,
     "points": 1.5,
     "schema_version": 1,
     "solution": true
    }
   },
   "source": [
    "YOUR ANSWER HERE"
   ]
  }
 ],
 "metadata": {
  "kernelspec": {
   "display_name": "Python 3",
   "language": "python",
   "name": "python3"
  },
  "language_info": {
   "codemirror_mode": {
    "name": "ipython",
    "version": 3
   },
   "file_extension": ".py",
   "mimetype": "text/x-python",
   "name": "python",
   "nbconvert_exporter": "python",
   "pygments_lexer": "ipython3",
   "version": "3.6.4"
  }
 },
 "nbformat": 4,
 "nbformat_minor": 2
}
